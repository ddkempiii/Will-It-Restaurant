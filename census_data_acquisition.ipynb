{
 "cells": [
  {
   "cell_type": "code",
   "execution_count": 4,
   "metadata": {},
   "outputs": [],
   "source": [
    "import pandas as pd\n",
    "import numpy as np\n",
    "import seaborn as sns\n",
    "import matplotlib.pyplot as plt\n",
    "\n",
    "sns.set_style('whitegrid')"
   ]
  },
  {
   "cell_type": "markdown",
   "metadata": {},
   "source": [
    "In this notebook, we outline the process of gathering census data for the training set. It is hoped that these additional features will provide greater accuracy in our model predictions."
   ]
  },
  {
   "cell_type": "code",
   "execution_count": 5,
   "metadata": {},
   "outputs": [],
   "source": [
    "\n",
    "rd_train = pd.read_csv(\"/Users/dominiquekemp/Documents/GitHub/'Will It Restaurant?'/train_data.csv\")\n",
    "\n"
   ]
  },
  {
   "cell_type": "code",
   "execution_count": 26,
   "metadata": {},
   "outputs": [],
   "source": [
    "with open(\"/Users/dominiquekemp/Documents/GitHub/'Will It Restaurant?'/census_APIkey.csv\", \"r\") as file:\n",
    "    CENSUS_API_KEY = file.read()"
   ]
  },
  {
   "cell_type": "code",
   "execution_count": 6,
   "metadata": {},
   "outputs": [],
   "source": [
    "import census\n",
    "from census import Census\n",
    "c = Census(CENSUS_API_KEY)\n",
    "import requests"
   ]
  },
  {
   "cell_type": "markdown",
   "metadata": {},
   "source": [
    "### Gathering of Census Tracts"
   ]
  },
  {
   "cell_type": "code",
   "execution_count": 7,
   "metadata": {},
   "outputs": [],
   "source": [
    "#a function for obtaining the census tract of a location\n",
    "def get_census_tract(lat, lon):\n",
    "    url = \"https://geocoding.geo.census.gov/geocoder/geographies/coordinates\"\n",
    "    params = {\n",
    "        \"x\": lon,\n",
    "        \"y\": lat,\n",
    "        \"benchmark\": \"Public_AR_Current\",\n",
    "        \"vintage\": \"Current_Current\",\n",
    "        \"format\": \"json\"\n",
    "    }\n",
    "    response = requests.get(url, params=params)\n",
    "    data = response.json()\n",
    "    \n",
    "    try:\n",
    "        tract_info = data['result']['geographies']['Census Tracts'][0]\n",
    "        return {\n",
    "            \"tract\": tract_info['TRACT'],\n",
    "            \"county\": tract_info['COUNTY'],\n",
    "            \"state\": tract_info['STATE'],\n",
    "            \"geoid\": tract_info['GEOID']\n",
    "        }\n",
    "    except Exception as e:\n",
    "        return None"
   ]
  },
  {
   "cell_type": "code",
   "execution_count": 8,
   "metadata": {},
   "outputs": [],
   "source": [
    "all_tracts = []\n",
    "for i in range(len(rd_train)):\n",
    "    lat, lon = rd_train[['latitude', 'longitude']].values[i]\n",
    "    all_tracts.append(get_census_tract(lat, lon))\n",
    "    "
   ]
  },
  {
   "cell_type": "code",
   "execution_count": 9,
   "metadata": {},
   "outputs": [],
   "source": [
    "#consolidate identical tracts\n",
    "unique_tracts = []\n",
    "tract_nos = []\n",
    "for tract in all_tracts:\n",
    "    tract_num = tract['tract']\n",
    "    if tract_num not in tract_nos:\n",
    "        unique_tracts.append(tract)\n",
    "        tract_nos.append(tract['tract'])"
   ]
  },
  {
   "cell_type": "code",
   "execution_count": 10,
   "metadata": {},
   "outputs": [],
   "source": [
    "counties = []\n",
    "tracts = []\n",
    "for tract in unique_tracts:\n",
    "    counties.append(tract['county'])\n",
    "    tracts.append(tract['tract'])"
   ]
  },
  {
   "cell_type": "code",
   "execution_count": 11,
   "metadata": {},
   "outputs": [],
   "source": [
    "#write all of the tract information to a file\n",
    "with open(\"/Users/dominiquekemp/Documents/GitHub/'Will It Restaurant?'/census_tracts.csv\", 'w+') as file:\n",
    "    for item in unique_tracts:\n",
    "        file.write(str(item) + \"\\n\")"
   ]
  },
  {
   "cell_type": "markdown",
   "metadata": {},
   "source": [
    "### Gathering of ACS Data for 2021"
   ]
  },
  {
   "cell_type": "code",
   "execution_count": 12,
   "metadata": {},
   "outputs": [],
   "source": [
    "#define a function for producing the desired census data \n",
    "def get_acs_data_for_county_tracts(census_obj, county_fips, tract_codes, variables, year=2021):\n",
    "    \"\"\"\n",
    "    Retrieves ACS5 data for a list of county tracts and specified variables.\n",
    "\n",
    "    Args:\n",
    "        census_obj: A Census object instantiated with your API key.\n",
    "        county_fips: A list of county FIPS codes.\n",
    "        tract_codes: A list of tract codes.\n",
    "        variables: A list or tuple of ACS variables to retrieve.\n",
    "        year: The year of the ACS data (optional, defaults to latest).\n",
    "\n",
    "    Returns:\n",
    "        A pandas DataFrame containing the requested data.\n",
    "    \"\"\"\n",
    "\n",
    "    all_data = []\n",
    "    for i in range(len(tract_codes)):\n",
    "        geo_filter = {'for': f'tract:{tract_codes[i]}', 'in': f'state:{'42'} county:{county_fips[i]}'}\n",
    "             \n",
    "        data = census_obj.acs5.get(variables, geo_filter, year=year)\n",
    "            \n",
    "        all_data.extend(data)\n",
    "\n",
    "    return pd.DataFrame(all_data)"
   ]
  },
  {
   "cell_type": "markdown",
   "metadata": {},
   "source": [
    "The census variables are defined as below:"
   ]
  },
  {
   "cell_type": "markdown",
   "metadata": {},
   "source": [
    "\n",
    "\n",
    "\n",
    "\n",
    "Median Household Income (B19013_001E)\n",
    "\n",
    "Poverty Rate (% Below poverty level) (B17001_002E / B17001_001E)\n",
    "\n",
    "Education level (% with Bachelor's Degree or Higher) (B15003_022E/B15003_001E)\n",
    "\n",
    "Race/Ethnicity data:\n",
    "\n",
    "Total Population B02001_001E\n",
    "\n",
    "pct White B02001_002E / tot pop\n",
    "\n",
    "pct Black B02001_003E / tot pop\n",
    "\n",
    "pct Asian B02001_005E / tot pop\n",
    "\n",
    "pct Hispanic/Latino B03003_003E / tot pop (ethnicity tracked differently)\n",
    "\n",
    "Immigration data: % Foreign Born Immigrant B05002_013E / B05002_001E\n",
    "\n",
    "Age data: Median Age B01002_001E \n",
    "\n",
    "Neighborhood turnover: Neighborhood turnover B07003_017E / B07003_001E"
   ]
  },
  {
   "cell_type": "code",
   "execution_count": 13,
   "metadata": {},
   "outputs": [],
   "source": [
    "variables_to_get = (\"B19013_001E\", 'B17001_002E', 'B17001_001E', 'B15003_001E', 'B15003_022E', 'B02001_001E', \n",
    "                                       'B02001_002E', 'B02001_003E', 'B02001_005E', 'B03003_003E', 'B05002_013E', \n",
    "                                       'B05002_001E', 'B01002_001E', 'B07003_017E', 'B07003_001E')\n",
    "\n",
    "acs_data = get_acs_data_for_county_tracts(c, counties, tracts, variables_to_get)\n"
   ]
  },
  {
   "cell_type": "markdown",
   "metadata": {},
   "source": [
    "Let us download this dataframe in order to view its initial form."
   ]
  },
  {
   "cell_type": "code",
   "execution_count": 14,
   "metadata": {},
   "outputs": [],
   "source": [
    "acs_data.to_csv(\"/Users/dominiquekemp/Documents/GitHub/'Will It Restaurant?'/census_data.csv\", index = False)"
   ]
  },
  {
   "cell_type": "markdown",
   "metadata": {},
   "source": [
    "### Data Cleaning"
   ]
  },
  {
   "cell_type": "code",
   "execution_count": 16,
   "metadata": {},
   "outputs": [],
   "source": [
    "#clean the dataframe of eccentric values\n",
    "acs_data.replace(-666666666.0, np.nan, inplace=True)\n",
    "\n",
    "i=0\n",
    "while i < len(acs_data.index):\n",
    "    boolean_for_zero_values = (acs_data.iloc[i, list(range(1,12)) + [13,14]] == 0)\n",
    "    if boolean_for_zero_values.all():\n",
    "        acs_data.drop(acs_data.index[i], inplace = True)\n",
    "    else:\n",
    "        i += 1"
   ]
  },
  {
   "cell_type": "code",
   "execution_count": 17,
   "metadata": {},
   "outputs": [],
   "source": [
    "#reorganize the census dataframe with relabeled columns and desired percentages for various categories\n",
    "census_dict = {\"B19013_001E\":'Median Household Income', \"B17001_002E\": \"Poverty Rate Num\", \"B17001_001E\": \"Poverty Rate Denom\", \"B15003_022E\": 'Education Level Num', \"B15003_001E\": \"Education Level Denom\", \"B02001_001E\": \"Total Population\",\n",
    "                 \"B02001_002E\": \"% White\", \"B02001_003E\": \"% Black\", \"B02001_005E\": \"% Asian\", \"B03003_003E\": \"% Hispanic/Latino\", \"B05002_013E\": \"Foreign Born Immigrant Num\", \n",
    "                \"B05002_001E\": \"Foreign Born Immigrant Denom\", \"B01002_001E\": \"Median Age\", \"B07003_017E\": \"Neighborhood Turnover Num\", \"B07003_001E\": \"Neighborhood Turnover Denom\"}\n",
    "\n",
    "acs_data.rename(columns = census_dict, inplace = True)\n",
    "\n",
    "perc_list = [['Poverty Rate Num', 'Poverty Rate Denom'], ['Education Level Num', 'Education Level Denom'], ['% White', 'Total Population'],\n",
    "             ['% Black', 'Total Population'], ['% Asian', 'Total Population'], ['% Hispanic/Latino', 'Total Population'], ['Foreign Born Immigrant Num', 'Foreign Born Immigrant Denom'],\n",
    "             ['Neighborhood Turnover Num', 'Neighborhood Turnover Denom']]\n",
    "\n",
    "for ratio in perc_list:\n",
    "    acs_data[ratio[0]] = acs_data[ratio[0]]/acs_data[ratio[1]]\n",
    "    if ratio[1] != 'Total Population':\n",
    "        acs_data.drop(ratio[1], axis = 1, inplace = True)\n",
    "    \n",
    "\n",
    "    \n",
    " "
   ]
  },
  {
   "cell_type": "code",
   "execution_count": 18,
   "metadata": {},
   "outputs": [],
   "source": [
    "acs_data.rename(columns = {'Poverty Rate Num': \"Poverty Rate %\", 'Education Level Num': 'Education Level %', 'Foreign Born Immigrant Num': 'Foreign Born Immigrant %', 'Neighborhood Turnover Num': 'Neighborhood Turnover %'}, inplace = True)"
   ]
  },
  {
   "cell_type": "code",
   "execution_count": 19,
   "metadata": {},
   "outputs": [
    {
     "data": {
      "text/html": [
       "<div>\n",
       "<style scoped>\n",
       "    .dataframe tbody tr th:only-of-type {\n",
       "        vertical-align: middle;\n",
       "    }\n",
       "\n",
       "    .dataframe tbody tr th {\n",
       "        vertical-align: top;\n",
       "    }\n",
       "\n",
       "    .dataframe thead th {\n",
       "        text-align: right;\n",
       "    }\n",
       "</style>\n",
       "<table border=\"1\" class=\"dataframe\">\n",
       "  <thead>\n",
       "    <tr style=\"text-align: right;\">\n",
       "      <th></th>\n",
       "      <th>Median Household Income</th>\n",
       "      <th>Poverty Rate %</th>\n",
       "      <th>Education Level %</th>\n",
       "      <th>Total Population</th>\n",
       "      <th>% White</th>\n",
       "      <th>% Black</th>\n",
       "      <th>% Asian</th>\n",
       "      <th>% Hispanic/Latino</th>\n",
       "      <th>Foreign Born Immigrant %</th>\n",
       "      <th>Median Age</th>\n",
       "      <th>Neighborhood Turnover %</th>\n",
       "      <th>state</th>\n",
       "      <th>county</th>\n",
       "      <th>tract</th>\n",
       "    </tr>\n",
       "  </thead>\n",
       "  <tbody>\n",
       "    <tr>\n",
       "      <th>0</th>\n",
       "      <td>34928.0</td>\n",
       "      <td>0.166205</td>\n",
       "      <td>0.070009</td>\n",
       "      <td>3620.0</td>\n",
       "      <td>0.008011</td>\n",
       "      <td>0.952486</td>\n",
       "      <td>0.000000</td>\n",
       "      <td>0.024862</td>\n",
       "      <td>0.107459</td>\n",
       "      <td>36.3</td>\n",
       "      <td>0.000000</td>\n",
       "      <td>42</td>\n",
       "      <td>101</td>\n",
       "      <td>007000</td>\n",
       "    </tr>\n",
       "    <tr>\n",
       "      <th>1</th>\n",
       "      <td>117904.0</td>\n",
       "      <td>0.178880</td>\n",
       "      <td>0.390262</td>\n",
       "      <td>5090.0</td>\n",
       "      <td>0.651473</td>\n",
       "      <td>0.096267</td>\n",
       "      <td>0.068566</td>\n",
       "      <td>0.246955</td>\n",
       "      <td>0.109430</td>\n",
       "      <td>31.5</td>\n",
       "      <td>0.003249</td>\n",
       "      <td>42</td>\n",
       "      <td>101</td>\n",
       "      <td>014400</td>\n",
       "    </tr>\n",
       "    <tr>\n",
       "      <th>2</th>\n",
       "      <td>43438.0</td>\n",
       "      <td>0.299709</td>\n",
       "      <td>0.110174</td>\n",
       "      <td>2746.0</td>\n",
       "      <td>0.051712</td>\n",
       "      <td>0.571741</td>\n",
       "      <td>0.250910</td>\n",
       "      <td>0.153314</td>\n",
       "      <td>0.322651</td>\n",
       "      <td>46.9</td>\n",
       "      <td>0.000000</td>\n",
       "      <td>42</td>\n",
       "      <td>101</td>\n",
       "      <td>027401</td>\n",
       "    </tr>\n",
       "    <tr>\n",
       "      <th>3</th>\n",
       "      <td>14962.0</td>\n",
       "      <td>0.696408</td>\n",
       "      <td>0.238164</td>\n",
       "      <td>2771.0</td>\n",
       "      <td>0.360881</td>\n",
       "      <td>0.452905</td>\n",
       "      <td>0.066041</td>\n",
       "      <td>0.093107</td>\n",
       "      <td>0.075424</td>\n",
       "      <td>22.0</td>\n",
       "      <td>0.000000</td>\n",
       "      <td>42</td>\n",
       "      <td>101</td>\n",
       "      <td>014700</td>\n",
       "    </tr>\n",
       "    <tr>\n",
       "      <th>4</th>\n",
       "      <td>99125.0</td>\n",
       "      <td>0.044559</td>\n",
       "      <td>0.301229</td>\n",
       "      <td>3299.0</td>\n",
       "      <td>0.758715</td>\n",
       "      <td>0.148530</td>\n",
       "      <td>0.049409</td>\n",
       "      <td>0.013640</td>\n",
       "      <td>0.064262</td>\n",
       "      <td>34.9</td>\n",
       "      <td>0.002475</td>\n",
       "      <td>42</td>\n",
       "      <td>101</td>\n",
       "      <td>001800</td>\n",
       "    </tr>\n",
       "    <tr>\n",
       "      <th>...</th>\n",
       "      <td>...</td>\n",
       "      <td>...</td>\n",
       "      <td>...</td>\n",
       "      <td>...</td>\n",
       "      <td>...</td>\n",
       "      <td>...</td>\n",
       "      <td>...</td>\n",
       "      <td>...</td>\n",
       "      <td>...</td>\n",
       "      <td>...</td>\n",
       "      <td>...</td>\n",
       "      <td>...</td>\n",
       "      <td>...</td>\n",
       "      <td>...</td>\n",
       "    </tr>\n",
       "    <tr>\n",
       "      <th>389</th>\n",
       "      <td>67083.0</td>\n",
       "      <td>0.035491</td>\n",
       "      <td>0.237960</td>\n",
       "      <td>1437.0</td>\n",
       "      <td>0.862909</td>\n",
       "      <td>0.069589</td>\n",
       "      <td>0.004871</td>\n",
       "      <td>0.038274</td>\n",
       "      <td>0.019485</td>\n",
       "      <td>40.4</td>\n",
       "      <td>0.000000</td>\n",
       "      <td>42</td>\n",
       "      <td>101</td>\n",
       "      <td>021900</td>\n",
       "    </tr>\n",
       "    <tr>\n",
       "      <th>390</th>\n",
       "      <td>42038.0</td>\n",
       "      <td>0.278310</td>\n",
       "      <td>0.075342</td>\n",
       "      <td>5523.0</td>\n",
       "      <td>0.012131</td>\n",
       "      <td>0.950570</td>\n",
       "      <td>0.000000</td>\n",
       "      <td>0.003440</td>\n",
       "      <td>0.147384</td>\n",
       "      <td>30.2</td>\n",
       "      <td>0.000000</td>\n",
       "      <td>42</td>\n",
       "      <td>101</td>\n",
       "      <td>026500</td>\n",
       "    </tr>\n",
       "    <tr>\n",
       "      <th>391</th>\n",
       "      <td>37521.0</td>\n",
       "      <td>0.219468</td>\n",
       "      <td>0.104737</td>\n",
       "      <td>2784.0</td>\n",
       "      <td>0.060345</td>\n",
       "      <td>0.875359</td>\n",
       "      <td>0.057830</td>\n",
       "      <td>0.000359</td>\n",
       "      <td>0.276221</td>\n",
       "      <td>40.2</td>\n",
       "      <td>0.000000</td>\n",
       "      <td>42</td>\n",
       "      <td>101</td>\n",
       "      <td>006100</td>\n",
       "    </tr>\n",
       "    <tr>\n",
       "      <th>392</th>\n",
       "      <td>23931.0</td>\n",
       "      <td>0.570098</td>\n",
       "      <td>0.052780</td>\n",
       "      <td>3870.0</td>\n",
       "      <td>0.280879</td>\n",
       "      <td>0.045995</td>\n",
       "      <td>0.006718</td>\n",
       "      <td>0.840568</td>\n",
       "      <td>0.116021</td>\n",
       "      <td>27.8</td>\n",
       "      <td>0.000000</td>\n",
       "      <td>42</td>\n",
       "      <td>101</td>\n",
       "      <td>019502</td>\n",
       "    </tr>\n",
       "    <tr>\n",
       "      <th>393</th>\n",
       "      <td>188750.0</td>\n",
       "      <td>0.024366</td>\n",
       "      <td>0.261040</td>\n",
       "      <td>4684.0</td>\n",
       "      <td>0.863578</td>\n",
       "      <td>0.046541</td>\n",
       "      <td>0.061699</td>\n",
       "      <td>0.029889</td>\n",
       "      <td>0.117848</td>\n",
       "      <td>41.6</td>\n",
       "      <td>0.015517</td>\n",
       "      <td>42</td>\n",
       "      <td>091</td>\n",
       "      <td>204500</td>\n",
       "    </tr>\n",
       "  </tbody>\n",
       "</table>\n",
       "<p>385 rows × 14 columns</p>\n",
       "</div>"
      ],
      "text/plain": [
       "     Median Household Income  Poverty Rate %  Education Level %  \\\n",
       "0                    34928.0        0.166205           0.070009   \n",
       "1                   117904.0        0.178880           0.390262   \n",
       "2                    43438.0        0.299709           0.110174   \n",
       "3                    14962.0        0.696408           0.238164   \n",
       "4                    99125.0        0.044559           0.301229   \n",
       "..                       ...             ...                ...   \n",
       "389                  67083.0        0.035491           0.237960   \n",
       "390                  42038.0        0.278310           0.075342   \n",
       "391                  37521.0        0.219468           0.104737   \n",
       "392                  23931.0        0.570098           0.052780   \n",
       "393                 188750.0        0.024366           0.261040   \n",
       "\n",
       "     Total Population   % White   % Black   % Asian  % Hispanic/Latino  \\\n",
       "0              3620.0  0.008011  0.952486  0.000000           0.024862   \n",
       "1              5090.0  0.651473  0.096267  0.068566           0.246955   \n",
       "2              2746.0  0.051712  0.571741  0.250910           0.153314   \n",
       "3              2771.0  0.360881  0.452905  0.066041           0.093107   \n",
       "4              3299.0  0.758715  0.148530  0.049409           0.013640   \n",
       "..                ...       ...       ...       ...                ...   \n",
       "389            1437.0  0.862909  0.069589  0.004871           0.038274   \n",
       "390            5523.0  0.012131  0.950570  0.000000           0.003440   \n",
       "391            2784.0  0.060345  0.875359  0.057830           0.000359   \n",
       "392            3870.0  0.280879  0.045995  0.006718           0.840568   \n",
       "393            4684.0  0.863578  0.046541  0.061699           0.029889   \n",
       "\n",
       "     Foreign Born Immigrant %  Median Age  Neighborhood Turnover % state  \\\n",
       "0                    0.107459        36.3                 0.000000    42   \n",
       "1                    0.109430        31.5                 0.003249    42   \n",
       "2                    0.322651        46.9                 0.000000    42   \n",
       "3                    0.075424        22.0                 0.000000    42   \n",
       "4                    0.064262        34.9                 0.002475    42   \n",
       "..                        ...         ...                      ...   ...   \n",
       "389                  0.019485        40.4                 0.000000    42   \n",
       "390                  0.147384        30.2                 0.000000    42   \n",
       "391                  0.276221        40.2                 0.000000    42   \n",
       "392                  0.116021        27.8                 0.000000    42   \n",
       "393                  0.117848        41.6                 0.015517    42   \n",
       "\n",
       "    county   tract  \n",
       "0      101  007000  \n",
       "1      101  014400  \n",
       "2      101  027401  \n",
       "3      101  014700  \n",
       "4      101  001800  \n",
       "..     ...     ...  \n",
       "389    101  021900  \n",
       "390    101  026500  \n",
       "391    101  006100  \n",
       "392    101  019502  \n",
       "393    091  204500  \n",
       "\n",
       "[385 rows x 14 columns]"
      ]
     },
     "execution_count": 19,
     "metadata": {},
     "output_type": "execute_result"
    }
   ],
   "source": [
    "acs_data"
   ]
  },
  {
   "cell_type": "markdown",
   "metadata": {},
   "source": [
    "### File Uploading"
   ]
  },
  {
   "cell_type": "code",
   "execution_count": 20,
   "metadata": {},
   "outputs": [],
   "source": [
    "acs_data.sort_values(by = \"tract\", inplace = True)"
   ]
  },
  {
   "cell_type": "code",
   "execution_count": 21,
   "metadata": {},
   "outputs": [],
   "source": [
    "acs_data.to_csv(\"/Users/dominiquekemp/Documents/GitHub/'Will It Restaurant?'/census_data.csv\", index = False)"
   ]
  },
  {
   "cell_type": "code",
   "execution_count": 22,
   "metadata": {},
   "outputs": [],
   "source": [
    "#append column of census tract numbers to restaurant dataframe\n",
    "rd_train[\"census_tract\"] = [tract['tract'] for tract in all_tracts]"
   ]
  },
  {
   "cell_type": "code",
   "execution_count": 23,
   "metadata": {},
   "outputs": [],
   "source": [
    "rd_train.to_csv(\"/Users/dominiquekemp/Documents/GitHub/'Will It Restaurant?'/train_data_with_census.csv\", index = False)"
   ]
  },
  {
   "cell_type": "code",
   "execution_count": 24,
   "metadata": {},
   "outputs": [],
   "source": [
    "rd_train = rd_train[rd_train.range == '1']\n",
    "\n",
    "rd_train.to_csv(\"/Users/dominiquekemp/Documents/GitHub/'Will It Restaurant?'/level1_data_w_censustract.csv\", index = False)"
   ]
  }
 ],
 "metadata": {
  "kernelspec": {
   "display_name": "erdos_spring_2025",
   "language": "python",
   "name": "python3"
  },
  "language_info": {
   "codemirror_mode": {
    "name": "ipython",
    "version": 3
   },
   "file_extension": ".py",
   "mimetype": "text/x-python",
   "name": "python",
   "nbconvert_exporter": "python",
   "pygments_lexer": "ipython3",
   "version": "3.12.8"
  }
 },
 "nbformat": 4,
 "nbformat_minor": 2
}
