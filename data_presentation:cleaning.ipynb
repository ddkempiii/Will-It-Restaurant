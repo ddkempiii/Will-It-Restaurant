{
 "cells": [
  {
   "cell_type": "code",
   "execution_count": 325,
   "metadata": {},
   "outputs": [],
   "source": [
    "import numpy as np\n",
    "import pandas as pd\n",
    "import matplotlib.pyplot as plt\n",
    "import seaborn as sns\n",
    "import plotly.express as px\n",
    "sns.set_style(\"whitegrid\")"
   ]
  },
  {
   "cell_type": "markdown",
   "metadata": {},
   "source": [
    "## Presentation and Cleaning of Data"
   ]
  },
  {
   "cell_type": "markdown",
   "metadata": {},
   "source": [
    "We downloaded the restaurant data scraped from Google Maps. There are some unnecessary columns in the dataframe, along with various other anomalies and missing entries through which we sift."
   ]
  },
  {
   "cell_type": "code",
   "execution_count": 242,
   "metadata": {},
   "outputs": [
    {
     "name": "stdout",
     "output_type": "stream",
     "text": [
      "(3786, 94)\n"
     ]
    }
   ],
   "source": [
    "data = pd.read_csv(\"/Users/dominiquekemp/Downloads/Outscraper-20250306234315s02_restaurant 4.csv\")\n",
    "print(data.shape)\n",
    "del data['query']"
   ]
  },
  {
   "cell_type": "markdown",
   "metadata": {},
   "source": [
    "### Preliminary Data Cleaning"
   ]
  },
  {
   "cell_type": "code",
   "execution_count": 243,
   "metadata": {},
   "outputs": [
    {
     "data": {
      "text/plain": [
       "(2, 6, 4)"
      ]
     },
     "execution_count": 243,
     "metadata": {},
     "output_type": "execute_result"
    }
   ],
   "source": [
    "len(data[data.state.isnull() == True]), len(data[data.state == 'New Jersey']), len(data[data.state == \"New York\"])"
   ]
  },
  {
   "cell_type": "code",
   "execution_count": 244,
   "metadata": {},
   "outputs": [],
   "source": [
    "#clear data of out-of-state restaurants\n",
    "data = data[(data.state == 'PA') | (data.state == 'Pennsylvania')]\n"
   ]
  },
  {
   "cell_type": "code",
   "execution_count": 245,
   "metadata": {},
   "outputs": [
    {
     "data": {
      "text/plain": [
       "Index(['name', 'name_for_emails', 'site', 'subtypes', 'category', 'type',\n",
       "       'phone', 'full_address', 'borough', 'street', 'city', 'postal_code',\n",
       "       'state', 'us_state', 'country', 'country_code', 'latitude', 'longitude',\n",
       "       'h3', 'time_zone', 'plus_code', 'area_service', 'rating', 'reviews',\n",
       "       'reviews_link', 'reviews_tags', 'reviews_per_score',\n",
       "       'reviews_per_score_1', 'reviews_per_score_2', 'reviews_per_score_3',\n",
       "       'reviews_per_score_4', 'reviews_per_score_5', 'photos_count', 'photo',\n",
       "       'street_view', 'located_in', 'working_hours',\n",
       "       'working_hours_old_format', 'other_hours', 'popular_times',\n",
       "       'business_status', 'about', 'range', 'posts', 'logo', 'description',\n",
       "       'typical_time_spent', 'verified', 'owner_id', 'owner_title',\n",
       "       'owner_link', 'reservation_links', 'booking_appointment_link',\n",
       "       'menu_link', 'order_links', 'location_link', 'location_reviews_link',\n",
       "       'place_id', 'google_id', 'cid', 'kgmid', 'reviews_id',\n",
       "       'located_google_id', 'company_name', 'legal_name', 'business_type',\n",
       "       'company_year_started', 'naics', 'naics_desc', 'sic6code', 'sic6desc',\n",
       "       'business_specialty', 'state_where_entity_formed', 'ein', 'public',\n",
       "       'chain', 'franchise', 'home_office', 'parent_company', 'telephone',\n",
       "       'telephone2', 'fax', 'toll_free_number', 'owner_phone', 'ethnicity',\n",
       "       'url', 'sales_volume', 'sales_code', 'company_sales',\n",
       "       'company_sales_code', 'number_of_employees', 'employee_code',\n",
       "       'company_num_emp'],\n",
       "      dtype='object')"
      ]
     },
     "execution_count": 245,
     "metadata": {},
     "output_type": "execute_result"
    }
   ],
   "source": [
    "\n",
    "data.columns"
   ]
  },
  {
   "cell_type": "code",
   "execution_count": 246,
   "metadata": {},
   "outputs": [
    {
     "data": {
      "text/plain": [
       "name                      0\n",
       "name_for_emails           1\n",
       "site                   1209\n",
       "subtypes                  1\n",
       "category                  2\n",
       "                       ... \n",
       "company_sales          3774\n",
       "company_sales_code     3774\n",
       "number_of_employees    3774\n",
       "employee_code          3774\n",
       "company_num_emp        3774\n",
       "Length: 93, dtype: int64"
      ]
     },
     "execution_count": 246,
     "metadata": {},
     "output_type": "execute_result"
    }
   ],
   "source": [
    "#determine tallies of missing values by column\n",
    "miss_values = pd.isnull(data).sum()\n",
    "miss_values"
   ]
  },
  {
   "cell_type": "code",
   "execution_count": 247,
   "metadata": {},
   "outputs": [
    {
     "name": "stdout",
     "output_type": "stream",
     "text": [
      "(3774, 56)\n"
     ]
    },
    {
     "data": {
      "text/plain": [
       "Index(['name', 'name_for_emails', 'site', 'subtypes', 'category', 'type',\n",
       "       'phone', 'full_address', 'borough', 'street', 'postal_code', 'latitude',\n",
       "       'longitude', 'h3', 'area_service', 'rating', 'reviews', 'reviews_link',\n",
       "       'reviews_per_score_1', 'reviews_per_score_2', 'reviews_per_score_3',\n",
       "       'reviews_per_score_4', 'reviews_per_score_5', 'photos_count', 'photo',\n",
       "       'street_view', 'located_in', 'working_hours',\n",
       "       'working_hours_old_format', 'other_hours', 'business_status', 'about',\n",
       "       'range', 'logo', 'description', 'verified', 'owner_id', 'owner_title',\n",
       "       'owner_link', 'reservation_links', 'booking_appointment_link',\n",
       "       'order_links', 'location_link', 'location_reviews_link', 'place_id',\n",
       "       'google_id', 'cid', 'kgmid', 'reviews_id', 'located_google_id'],\n",
       "      dtype='object')"
      ]
     },
     "execution_count": 247,
     "metadata": {},
     "output_type": "execute_result"
    }
   ],
   "source": [
    "#remove all fully incomplete columns \n",
    "for index in data.columns:\n",
    "    if miss_values[index] == len(data):\n",
    "        del data[index]\n",
    "\n",
    "print(data.shape)\n",
    "#drop redundant columns\n",
    "data = data.drop([\"city\", 'state', 'us_state', 'country', 'country_code', 'time_zone'], axis = 1)\n",
    "data.columns"
   ]
  },
  {
   "cell_type": "code",
   "execution_count": 248,
   "metadata": {},
   "outputs": [
    {
     "data": {
      "text/plain": [
       "name                           0\n",
       "name_for_emails                1\n",
       "site                        1209\n",
       "subtypes                       1\n",
       "category                       2\n",
       "type                           1\n",
       "phone                        282\n",
       "full_address                   0\n",
       "borough                       59\n",
       "street                        15\n",
       "postal_code                    1\n",
       "latitude                       0\n",
       "longitude                      0\n",
       "h3                             0\n",
       "area_service                   0\n",
       "rating                       115\n",
       "reviews                      115\n",
       "reviews_link                 116\n",
       "reviews_per_score_1          115\n",
       "reviews_per_score_2          115\n",
       "reviews_per_score_3          115\n",
       "reviews_per_score_4          115\n",
       "reviews_per_score_5          115\n",
       "photos_count                   8\n",
       "photo                          8\n",
       "street_view                    8\n",
       "located_in                  3773\n",
       "working_hours                350\n",
       "working_hours_old_format     350\n",
       "other_hours                 2905\n",
       "business_status                0\n",
       "about                          0\n",
       "range                        880\n",
       "logo                         736\n",
       "description                 2292\n",
       "verified                       0\n",
       "owner_id                     736\n",
       "owner_title                    0\n",
       "owner_link                   736\n",
       "reservation_links           3245\n",
       "booking_appointment_link    1303\n",
       "order_links                 3238\n",
       "location_link                  0\n",
       "location_reviews_link          0\n",
       "place_id                       0\n",
       "google_id                      0\n",
       "cid                            0\n",
       "kgmid                          0\n",
       "reviews_id                     0\n",
       "located_google_id           3773\n",
       "dtype: int64"
      ]
     },
     "execution_count": 248,
     "metadata": {},
     "output_type": "execute_result"
    }
   ],
   "source": [
    "missing_values = pd.isnull(data).sum()\n",
    "missing_values"
   ]
  },
  {
   "cell_type": "code",
   "execution_count": 249,
   "metadata": {},
   "outputs": [],
   "source": [
    "#delete 'located_google_id' column since only one filled entry\n",
    "del data['located_google_id']"
   ]
  },
  {
   "cell_type": "code",
   "execution_count": 250,
   "metadata": {},
   "outputs": [],
   "source": [
    "#remove 'located_in' for same reason, as well as restaurants with missing target feature\n",
    "del data['located_in']\n",
    "df = data[data.rating.isnull() == False]"
   ]
  },
  {
   "cell_type": "code",
   "execution_count": 251,
   "metadata": {},
   "outputs": [
    {
     "data": {
      "text/plain": [
       "name                           0\n",
       "name_for_emails                1\n",
       "site                        1122\n",
       "subtypes                       1\n",
       "category                       2\n",
       "type                           1\n",
       "phone                        228\n",
       "full_address                   0\n",
       "borough                       59\n",
       "street                        12\n",
       "postal_code                    0\n",
       "latitude                       0\n",
       "longitude                      0\n",
       "h3                             0\n",
       "area_service                   0\n",
       "rating                         0\n",
       "reviews                        0\n",
       "reviews_link                   1\n",
       "reviews_per_score_1            0\n",
       "reviews_per_score_2            0\n",
       "reviews_per_score_3            0\n",
       "reviews_per_score_4            0\n",
       "reviews_per_score_5            0\n",
       "photos_count                   3\n",
       "photo                          3\n",
       "street_view                    3\n",
       "working_hours                279\n",
       "working_hours_old_format     279\n",
       "other_hours                 2791\n",
       "business_status                0\n",
       "about                          0\n",
       "range                        779\n",
       "logo                         679\n",
       "description                 2180\n",
       "verified                       0\n",
       "owner_id                     679\n",
       "owner_title                    0\n",
       "owner_link                   679\n",
       "reservation_links           3130\n",
       "booking_appointment_link    1203\n",
       "order_links                 3123\n",
       "location_link                  0\n",
       "location_reviews_link          0\n",
       "place_id                       0\n",
       "google_id                      0\n",
       "cid                            0\n",
       "kgmid                          0\n",
       "reviews_id                     0\n",
       "dtype: int64"
      ]
     },
     "execution_count": 251,
     "metadata": {},
     "output_type": "execute_result"
    }
   ],
   "source": [
    "df.shape\n",
    "missing_values = df.isnull().sum()\n",
    "missing_values"
   ]
  },
  {
   "cell_type": "markdown",
   "metadata": {},
   "source": [
    "### Operational Status and Cuisine Variety"
   ]
  },
  {
   "cell_type": "markdown",
   "metadata": {},
   "source": [
    "We observe that the data includes some restaurants which are closed, either temporarily or permanently. We do not remove these entries, as the Philly restaurant scene is dynamic with a constant flux of new restaurants and relocation of old ones and moreover Google Maps only retains the information of closed restaurants for just a few months."
   ]
  },
  {
   "cell_type": "code",
   "execution_count": 252,
   "metadata": {},
   "outputs": [
    {
     "data": {
      "text/html": [
       "<div>\n",
       "<style scoped>\n",
       "    .dataframe tbody tr th:only-of-type {\n",
       "        vertical-align: middle;\n",
       "    }\n",
       "\n",
       "    .dataframe tbody tr th {\n",
       "        vertical-align: top;\n",
       "    }\n",
       "\n",
       "    .dataframe thead th {\n",
       "        text-align: right;\n",
       "    }\n",
       "</style>\n",
       "<table border=\"1\" class=\"dataframe\">\n",
       "  <thead>\n",
       "    <tr style=\"text-align: right;\">\n",
       "      <th></th>\n",
       "      <th>CLOSED_PERMANENTLY</th>\n",
       "      <th>CLOSED_TEMPORARILY</th>\n",
       "    </tr>\n",
       "  </thead>\n",
       "  <tbody>\n",
       "    <tr>\n",
       "      <th>96</th>\n",
       "      <td>True</td>\n",
       "      <td>False</td>\n",
       "    </tr>\n",
       "    <tr>\n",
       "      <th>154</th>\n",
       "      <td>False</td>\n",
       "      <td>True</td>\n",
       "    </tr>\n",
       "    <tr>\n",
       "      <th>155</th>\n",
       "      <td>False</td>\n",
       "      <td>True</td>\n",
       "    </tr>\n",
       "    <tr>\n",
       "      <th>156</th>\n",
       "      <td>False</td>\n",
       "      <td>True</td>\n",
       "    </tr>\n",
       "    <tr>\n",
       "      <th>157</th>\n",
       "      <td>False</td>\n",
       "      <td>True</td>\n",
       "    </tr>\n",
       "    <tr>\n",
       "      <th>...</th>\n",
       "      <td>...</td>\n",
       "      <td>...</td>\n",
       "    </tr>\n",
       "    <tr>\n",
       "      <th>3598</th>\n",
       "      <td>False</td>\n",
       "      <td>True</td>\n",
       "    </tr>\n",
       "    <tr>\n",
       "      <th>3599</th>\n",
       "      <td>False</td>\n",
       "      <td>True</td>\n",
       "    </tr>\n",
       "    <tr>\n",
       "      <th>3678</th>\n",
       "      <td>False</td>\n",
       "      <td>True</td>\n",
       "    </tr>\n",
       "    <tr>\n",
       "      <th>3679</th>\n",
       "      <td>False</td>\n",
       "      <td>True</td>\n",
       "    </tr>\n",
       "    <tr>\n",
       "      <th>3785</th>\n",
       "      <td>False</td>\n",
       "      <td>True</td>\n",
       "    </tr>\n",
       "  </tbody>\n",
       "</table>\n",
       "<p>167 rows × 2 columns</p>\n",
       "</div>"
      ],
      "text/plain": [
       "      CLOSED_PERMANENTLY  CLOSED_TEMPORARILY\n",
       "96                  True               False\n",
       "154                False                True\n",
       "155                False                True\n",
       "156                False                True\n",
       "157                False                True\n",
       "...                  ...                 ...\n",
       "3598               False                True\n",
       "3599               False                True\n",
       "3678               False                True\n",
       "3679               False                True\n",
       "3785               False                True\n",
       "\n",
       "[167 rows x 2 columns]"
      ]
     },
     "execution_count": 252,
     "metadata": {},
     "output_type": "execute_result"
    }
   ],
   "source": [
    "#record of the businesses that are closed permamently or temporarily\n",
    "closed = df.loc[df.business_status != 'OPERATIONAL']\n",
    "df_nonoper = pd.get_dummies(closed['business_status'])\n",
    "df_nonoper"
   ]
  },
  {
   "cell_type": "code",
   "execution_count": 253,
   "metadata": {},
   "outputs": [
    {
     "data": {
      "text/html": [
       "<div>\n",
       "<style scoped>\n",
       "    .dataframe tbody tr th:only-of-type {\n",
       "        vertical-align: middle;\n",
       "    }\n",
       "\n",
       "    .dataframe tbody tr th {\n",
       "        vertical-align: top;\n",
       "    }\n",
       "\n",
       "    .dataframe thead th {\n",
       "        text-align: right;\n",
       "    }\n",
       "</style>\n",
       "<table border=\"1\" class=\"dataframe\">\n",
       "  <thead>\n",
       "    <tr style=\"text-align: right;\">\n",
       "      <th></th>\n",
       "      <th>name</th>\n",
       "      <th>name_for_emails</th>\n",
       "      <th>site</th>\n",
       "      <th>subtypes</th>\n",
       "      <th>category</th>\n",
       "      <th>type</th>\n",
       "      <th>phone</th>\n",
       "      <th>full_address</th>\n",
       "      <th>borough</th>\n",
       "      <th>street</th>\n",
       "      <th>...</th>\n",
       "      <th>reservation_links</th>\n",
       "      <th>booking_appointment_link</th>\n",
       "      <th>order_links</th>\n",
       "      <th>location_link</th>\n",
       "      <th>location_reviews_link</th>\n",
       "      <th>place_id</th>\n",
       "      <th>google_id</th>\n",
       "      <th>cid</th>\n",
       "      <th>kgmid</th>\n",
       "      <th>reviews_id</th>\n",
       "    </tr>\n",
       "  </thead>\n",
       "  <tbody>\n",
       "    <tr>\n",
       "      <th>154</th>\n",
       "      <td>Bing Bing Dim Sum</td>\n",
       "      <td>Bing Bing Dim Sum</td>\n",
       "      <td>NaN</td>\n",
       "      <td>Chinese restaurant, Asian fusion restaurant, A...</td>\n",
       "      <td>restaurants</td>\n",
       "      <td>Chinese restaurant</td>\n",
       "      <td>NaN</td>\n",
       "      <td>1648 E Passyunk Ave, Philadelphia, PA 19148</td>\n",
       "      <td>East Passyunk Crossing</td>\n",
       "      <td>1648 E Passyunk Ave</td>\n",
       "      <td>...</td>\n",
       "      <td>NaN</td>\n",
       "      <td>NaN</td>\n",
       "      <td>NaN</td>\n",
       "      <td>https://www.google.com/maps/place/Bing+Bing+Di...</td>\n",
       "      <td>https://www.google.com/maps/place/Bing+Bing+Di...</td>\n",
       "      <td>ChIJFxvwNQXGxokRMfV_Gwcj8ZQ</td>\n",
       "      <td>0x89c6c60535f01b17:0x94f123071b7ff531</td>\n",
       "      <td>10732397900433716529</td>\n",
       "      <td>/g/11b70bmmmz</td>\n",
       "      <td>-7714346173275835087</td>\n",
       "    </tr>\n",
       "    <tr>\n",
       "      <th>155</th>\n",
       "      <td>Black Cat Tavern on 12th</td>\n",
       "      <td>Black Cat Tavern On 12Th</td>\n",
       "      <td>http://www.blackcattavernphilly.com/</td>\n",
       "      <td>Gastropub, Art gallery, ATM, Cocktail bar, Ecl...</td>\n",
       "      <td>restaurants</td>\n",
       "      <td>Gastropub</td>\n",
       "      <td>+1 267-519-3574</td>\n",
       "      <td>2654 S 12th St, Philadelphia, PA 19148</td>\n",
       "      <td>Lower Moyamensing</td>\n",
       "      <td>2654 S 12th St</td>\n",
       "      <td>...</td>\n",
       "      <td>NaN</td>\n",
       "      <td>NaN</td>\n",
       "      <td>NaN</td>\n",
       "      <td>https://www.google.com/maps/place/Black+Cat+Ta...</td>\n",
       "      <td>https://www.google.com/maps/place/Black+Cat+Ta...</td>\n",
       "      <td>ChIJLYgEGOPFxokR6XiNpM0hlD0</td>\n",
       "      <td>0x89c6c5e31804882d:0x3d9421cda48d78e9</td>\n",
       "      <td>4437208699979528425</td>\n",
       "      <td>/g/11b_2r0vd2</td>\n",
       "      <td>4437208699979528425</td>\n",
       "    </tr>\n",
       "    <tr>\n",
       "      <th>156</th>\n",
       "      <td>SciFood-Crown</td>\n",
       "      <td>Scifood Crown</td>\n",
       "      <td>NaN</td>\n",
       "      <td>Restaurant</td>\n",
       "      <td>restaurants</td>\n",
       "      <td>Restaurant</td>\n",
       "      <td>+1 908-487-8687</td>\n",
       "      <td>330 Oregon Ave, Philadelphia, PA 19148</td>\n",
       "      <td>South Philadelphia East</td>\n",
       "      <td>330 Oregon Ave</td>\n",
       "      <td>...</td>\n",
       "      <td>NaN</td>\n",
       "      <td>NaN</td>\n",
       "      <td>NaN</td>\n",
       "      <td>https://www.google.com/maps/place/SciFood-Crow...</td>\n",
       "      <td>https://www.google.com/maps/place/SciFood-Crow...</td>\n",
       "      <td>ChIJN0nT-j7FxokRnLR1vNwFP9U</td>\n",
       "      <td>0x89c6c53efad34937:0xd53f05dcbc75b49c</td>\n",
       "      <td>15366006899224196252</td>\n",
       "      <td>/g/11j2gfd2n8</td>\n",
       "      <td>-3080737174485355364</td>\n",
       "    </tr>\n",
       "    <tr>\n",
       "      <th>157</th>\n",
       "      <td>Pizza Shop</td>\n",
       "      <td>Pizza Shop</td>\n",
       "      <td>http://pizzashop.com/</td>\n",
       "      <td>Pizza restaurant, Cheesesteak restaurant, Fast...</td>\n",
       "      <td>restaurants</td>\n",
       "      <td>Pizza restaurant</td>\n",
       "      <td>+1 215-551-3333</td>\n",
       "      <td>2700 S 7th St, Philadelphia, PA 19148</td>\n",
       "      <td>South Philadelphia East</td>\n",
       "      <td>2700 S 7th St</td>\n",
       "      <td>...</td>\n",
       "      <td>NaN</td>\n",
       "      <td>NaN</td>\n",
       "      <td>NaN</td>\n",
       "      <td>https://www.google.com/maps/place/Pizza+Shop/@...</td>\n",
       "      <td>https://www.google.com/maps/place/Pizza+Shop/@...</td>\n",
       "      <td>ChIJ3ZK3dKDFxokR9owY2NE78mQ</td>\n",
       "      <td>0x89c6c5a074b792dd:0x64f23bd1d8188cf6</td>\n",
       "      <td>7273942120616463606</td>\n",
       "      <td>/g/11fp4ry9sk</td>\n",
       "      <td>7273942120616463606</td>\n",
       "    </tr>\n",
       "    <tr>\n",
       "      <th>158</th>\n",
       "      <td>Stadium Pizza &amp; Grill</td>\n",
       "      <td>Stadium Pizza And Grill</td>\n",
       "      <td>NaN</td>\n",
       "      <td>Pizza restaurant, Italian restaurant, Delivery...</td>\n",
       "      <td>restaurants</td>\n",
       "      <td>Pizza restaurant</td>\n",
       "      <td>+1 215-755-5411</td>\n",
       "      <td>2400 S 10th St, Philadelphia, PA 19148</td>\n",
       "      <td>Lower Moyamensing</td>\n",
       "      <td>2400 S 10th St</td>\n",
       "      <td>...</td>\n",
       "      <td>NaN</td>\n",
       "      <td>NaN</td>\n",
       "      <td>NaN</td>\n",
       "      <td>https://www.google.com/maps/place/Stadium+Pizz...</td>\n",
       "      <td>https://www.google.com/maps/place/Stadium+Pizz...</td>\n",
       "      <td>ChIJGbLEhAfGxokRatQqMx0RHiI</td>\n",
       "      <td>0x89c6c60784c4b219:0x221e111d332ad46a</td>\n",
       "      <td>2458421263701038186</td>\n",
       "      <td>/g/1vbnqcf4</td>\n",
       "      <td>2458421263701038186</td>\n",
       "    </tr>\n",
       "    <tr>\n",
       "      <th>159</th>\n",
       "      <td>La Tienda</td>\n",
       "      <td>La Tienda</td>\n",
       "      <td>http://orderlatienda.com/</td>\n",
       "      <td>Mexican restaurant, Grocery store, Mexican gro...</td>\n",
       "      <td>restaurants</td>\n",
       "      <td>Mexican restaurant</td>\n",
       "      <td>+1 215-334-1159</td>\n",
       "      <td>1247 Snyder Ave, Philadelphia, PA 19148</td>\n",
       "      <td>East Passyunk Crossing</td>\n",
       "      <td>1247 Snyder Ave</td>\n",
       "      <td>...</td>\n",
       "      <td>NaN</td>\n",
       "      <td>NaN</td>\n",
       "      <td>NaN</td>\n",
       "      <td>https://www.google.com/maps/place/La+Tienda/@3...</td>\n",
       "      <td>https://www.google.com/maps/place/La+Tienda/@3...</td>\n",
       "      <td>ChIJ4a08tAjGxokRqq1SBymojgI</td>\n",
       "      <td>0x89c6c608b43cade1:0x28ea8290752adaa</td>\n",
       "      <td>184269528938753450</td>\n",
       "      <td>/g/12613gj0b</td>\n",
       "      <td>184269528938753450</td>\n",
       "    </tr>\n",
       "  </tbody>\n",
       "</table>\n",
       "<p>6 rows × 48 columns</p>\n",
       "</div>"
      ],
      "text/plain": [
       "                         name           name_for_emails  \\\n",
       "154         Bing Bing Dim Sum         Bing Bing Dim Sum   \n",
       "155  Black Cat Tavern on 12th  Black Cat Tavern On 12Th   \n",
       "156             SciFood-Crown             Scifood Crown   \n",
       "157                Pizza Shop                Pizza Shop   \n",
       "158     Stadium Pizza & Grill   Stadium Pizza And Grill   \n",
       "159                 La Tienda                 La Tienda   \n",
       "\n",
       "                                     site  \\\n",
       "154                                   NaN   \n",
       "155  http://www.blackcattavernphilly.com/   \n",
       "156                                   NaN   \n",
       "157                 http://pizzashop.com/   \n",
       "158                                   NaN   \n",
       "159             http://orderlatienda.com/   \n",
       "\n",
       "                                              subtypes     category  \\\n",
       "154  Chinese restaurant, Asian fusion restaurant, A...  restaurants   \n",
       "155  Gastropub, Art gallery, ATM, Cocktail bar, Ecl...  restaurants   \n",
       "156                                         Restaurant  restaurants   \n",
       "157  Pizza restaurant, Cheesesteak restaurant, Fast...  restaurants   \n",
       "158  Pizza restaurant, Italian restaurant, Delivery...  restaurants   \n",
       "159  Mexican restaurant, Grocery store, Mexican gro...  restaurants   \n",
       "\n",
       "                   type            phone  \\\n",
       "154  Chinese restaurant              NaN   \n",
       "155           Gastropub  +1 267-519-3574   \n",
       "156          Restaurant  +1 908-487-8687   \n",
       "157    Pizza restaurant  +1 215-551-3333   \n",
       "158    Pizza restaurant  +1 215-755-5411   \n",
       "159  Mexican restaurant  +1 215-334-1159   \n",
       "\n",
       "                                    full_address                  borough  \\\n",
       "154  1648 E Passyunk Ave, Philadelphia, PA 19148   East Passyunk Crossing   \n",
       "155       2654 S 12th St, Philadelphia, PA 19148        Lower Moyamensing   \n",
       "156       330 Oregon Ave, Philadelphia, PA 19148  South Philadelphia East   \n",
       "157        2700 S 7th St, Philadelphia, PA 19148  South Philadelphia East   \n",
       "158       2400 S 10th St, Philadelphia, PA 19148        Lower Moyamensing   \n",
       "159      1247 Snyder Ave, Philadelphia, PA 19148   East Passyunk Crossing   \n",
       "\n",
       "                  street  ...  reservation_links  booking_appointment_link  \\\n",
       "154  1648 E Passyunk Ave  ...                NaN                       NaN   \n",
       "155       2654 S 12th St  ...                NaN                       NaN   \n",
       "156       330 Oregon Ave  ...                NaN                       NaN   \n",
       "157        2700 S 7th St  ...                NaN                       NaN   \n",
       "158       2400 S 10th St  ...                NaN                       NaN   \n",
       "159      1247 Snyder Ave  ...                NaN                       NaN   \n",
       "\n",
       "     order_links                                      location_link  \\\n",
       "154          NaN  https://www.google.com/maps/place/Bing+Bing+Di...   \n",
       "155          NaN  https://www.google.com/maps/place/Black+Cat+Ta...   \n",
       "156          NaN  https://www.google.com/maps/place/SciFood-Crow...   \n",
       "157          NaN  https://www.google.com/maps/place/Pizza+Shop/@...   \n",
       "158          NaN  https://www.google.com/maps/place/Stadium+Pizz...   \n",
       "159          NaN  https://www.google.com/maps/place/La+Tienda/@3...   \n",
       "\n",
       "                                 location_reviews_link  \\\n",
       "154  https://www.google.com/maps/place/Bing+Bing+Di...   \n",
       "155  https://www.google.com/maps/place/Black+Cat+Ta...   \n",
       "156  https://www.google.com/maps/place/SciFood-Crow...   \n",
       "157  https://www.google.com/maps/place/Pizza+Shop/@...   \n",
       "158  https://www.google.com/maps/place/Stadium+Pizz...   \n",
       "159  https://www.google.com/maps/place/La+Tienda/@3...   \n",
       "\n",
       "                        place_id                              google_id  \\\n",
       "154  ChIJFxvwNQXGxokRMfV_Gwcj8ZQ  0x89c6c60535f01b17:0x94f123071b7ff531   \n",
       "155  ChIJLYgEGOPFxokR6XiNpM0hlD0  0x89c6c5e31804882d:0x3d9421cda48d78e9   \n",
       "156  ChIJN0nT-j7FxokRnLR1vNwFP9U  0x89c6c53efad34937:0xd53f05dcbc75b49c   \n",
       "157  ChIJ3ZK3dKDFxokR9owY2NE78mQ  0x89c6c5a074b792dd:0x64f23bd1d8188cf6   \n",
       "158  ChIJGbLEhAfGxokRatQqMx0RHiI  0x89c6c60784c4b219:0x221e111d332ad46a   \n",
       "159  ChIJ4a08tAjGxokRqq1SBymojgI   0x89c6c608b43cade1:0x28ea8290752adaa   \n",
       "\n",
       "                      cid          kgmid            reviews_id  \n",
       "154  10732397900433716529  /g/11b70bmmmz  -7714346173275835087  \n",
       "155   4437208699979528425  /g/11b_2r0vd2   4437208699979528425  \n",
       "156  15366006899224196252  /g/11j2gfd2n8  -3080737174485355364  \n",
       "157   7273942120616463606  /g/11fp4ry9sk   7273942120616463606  \n",
       "158   2458421263701038186    /g/1vbnqcf4   2458421263701038186  \n",
       "159    184269528938753450   /g/12613gj0b    184269528938753450  \n",
       "\n",
       "[6 rows x 48 columns]"
      ]
     },
     "execution_count": 253,
     "metadata": {},
     "output_type": "execute_result"
    }
   ],
   "source": [
    "#a sample of some closed restaurants\n",
    "df.iloc[153:159]"
   ]
  },
  {
   "cell_type": "markdown",
   "metadata": {},
   "source": [
    "In anticipation, it is interesting to see what cuisine types are noted."
   ]
  },
  {
   "cell_type": "code",
   "execution_count": 254,
   "metadata": {},
   "outputs": [
    {
     "name": "stdout",
     "output_type": "stream",
     "text": [
      "['Restaurant' 'Diner' 'Italian restaurant' 'Bar' 'Brunch restaurant'\n",
      " 'Gastropub' 'Sicilian restaurant' 'American restaurant'\n",
      " 'Cambodian restaurant' 'Asian restaurant' 'Thai restaurant' 'Steak house'\n",
      " 'Vietnamese restaurant' 'Breakfast restaurant' 'Hamburger restaurant'\n",
      " 'Mexican restaurant' 'Honduran restaurant' 'Bar & grill'\n",
      " 'Cheesesteak restaurant' 'Indian restaurant' 'Taco restaurant'\n",
      " 'Swedish restaurant' 'Spanish restaurant' 'Pizza restaurant'\n",
      " 'Chinese restaurant' 'French restaurant' 'Delivery Chinese restaurant'\n",
      " 'Sandwich shop' 'Southern restaurant (US)' 'Indonesian restaurant'\n",
      " 'Mediterranean restaurant' 'Latin American restaurant' 'Event venue'\n",
      " 'Chicken restaurant' 'Halal restaurant' 'Barbecue restaurant'\n",
      " 'New American restaurant' 'Cafe' 'Fast food restaurant'\n",
      " 'Seafood restaurant' 'Vegan restaurant' 'Caribbean restaurant'\n",
      " 'Takeout Restaurant' 'Pizza Takeout' 'West African restaurant'\n",
      " 'Colombian restaurant' 'Portuguese restaurant' 'Brazilian restaurant'\n",
      " 'Korean restaurant' 'Buffet restaurant' 'Cajun restaurant'\n",
      " 'Dominican restaurant' 'Chicken wings restaurant' 'Sichuan restaurant'\n",
      " 'Salvadoran restaurant' 'Peruvian restaurant' 'Asian fusion restaurant'\n",
      " 'Hot pot restaurant' 'Karaoke bar' 'Coffee shop' 'Cocktail bar'\n",
      " 'Chinese takeaway' 'Guatemalan restaurant' 'Ramen restaurant'\n",
      " 'Oyster bar restaurant' 'Pizza delivery' 'Dessert shop'\n",
      " 'Sushi restaurant' 'Japanese restaurant' 'Soul food restaurant'\n",
      " 'Jamaican restaurant' 'Delivery Restaurant' 'Salad shop' 'Brewpub'\n",
      " 'Ice cream shop' 'Snack bar' 'Eritrean restaurant' 'Haitian restaurant'\n",
      " 'Lebanese restaurant' 'Ethiopian restaurant' 'Caterer'\n",
      " 'Middle Eastern restaurant' 'Deli' 'Ecuadorian restaurant'\n",
      " 'Korean barbecue restaurant' 'Georgian restaurant' 'Uzbeki restaurant'\n",
      " 'Puerto Rican restaurant' 'Açaí shop' 'Kosher restaurant'\n",
      " 'Health food restaurant' 'Pennsylvania Dutch restaurant' 'Sports bar'\n",
      " 'Fresh food market' 'Hot dog restaurant' 'Irish pub'\n",
      " 'Self service restaurant' 'African restaurant' 'Burrito restaurant'\n",
      " 'Lounge' 'Modern European restaurant' 'Turkish restaurant'\n",
      " 'Traditional restaurant' 'Dim sum restaurant' 'Crab house' 'Brewery'\n",
      " 'Pretzel store' 'Sushi takeaway' 'Polish restaurant' 'Tapas restaurant'\n",
      " 'Fine dining restaurant' 'Bistro' 'Hotel' 'Organic restaurant'\n",
      " 'Falafel restaurant' 'Greek restaurant' 'Fried chicken takeaway'\n",
      " 'Donut shop' 'Association / Organization' 'Pan-Asian restaurant'\n",
      " 'Food and drink' 'Entertainment agency' 'Israeli restaurant'\n",
      " 'Irish restaurant' 'Noodle shop' 'Vegetarian restaurant'\n",
      " 'South Indian restaurant' 'Filipino restaurant' 'Cooking class'\n",
      " 'Shopping mall' 'Jewish restaurant' nan 'Shabu-shabu restaurant'\n",
      " 'Cuban restaurant' 'Malaysian restaurant' 'Mid-Atlantic restaurant (US)'\n",
      " 'Dan Dan noodle restaurant' 'Tonkatsu restaurant' 'European restaurant'\n",
      " 'Southern Italian restaurant' 'Market' 'Pho restaurant'\n",
      " 'Fusion restaurant' 'Pub' 'Tex-Mex restaurant' 'Afghan restaurant'\n",
      " 'Poke bar' 'Pakistani restaurant' 'Family restaurant' 'Live music venue'\n",
      " 'Bagel shop' 'Southeast Asian restaurant'\n",
      " 'Catering equipment rental service' 'Beer garden' 'Grocery store'\n",
      " 'Bakery' 'Smoke shop' 'Taiwanese restaurant' 'Club' 'Amusement center'\n",
      " 'Nepalese restaurant' 'Creperie' 'Beer store' 'Poultry store'\n",
      " 'Lunch restaurant' 'Russian restaurant' 'Modern Indian restaurant'\n",
      " 'Tibetan restaurant' 'Eclectic restaurant' 'Food court' 'Hookah bar'\n",
      " 'Lingerie store' 'Raw food restaurant' 'Traditional American restaurant'\n",
      " 'Indian takeaway' 'Winery' 'Vitamin & supplements store' 'Beer hall'\n",
      " 'Laotian restaurant' 'Juice shop' 'Rice restaurant' 'Bubble tea store'\n",
      " 'Hoagie restaurant' 'Bed & breakfast' 'Gyro restaurant' 'Gas station'\n",
      " 'Cafeteria' 'Egyptian restaurant' 'Bangladeshi restaurant'\n",
      " 'Yemeni restaurant' 'Dumpling restaurant' 'Convenience store'\n",
      " 'Fish & chips restaurant' 'Liquor store' 'Grill' 'Argentinian restaurant'\n",
      " 'Hot dog stand' 'Western restaurant' 'Meat wholesaler'\n",
      " 'Tunisian restaurant' 'Mobile caterer' 'Moroccan restaurant'\n",
      " 'Venezuelan restaurant'] (203,)\n"
     ]
    }
   ],
   "source": [
    "#record cuisine features \n",
    "cuisines= data.type.unique()\n",
    "print(cuisines, cuisines.shape)"
   ]
  },
  {
   "cell_type": "markdown",
   "metadata": {},
   "source": [
    "### Redundant Features, Boolean Exchange, and Sufficient Customer Feedback"
   ]
  },
  {
   "cell_type": "code",
   "execution_count": 255,
   "metadata": {},
   "outputs": [
    {
     "name": "stdout",
     "output_type": "stream",
     "text": [
      "(0, 48)\n",
      "(0, 48)\n"
     ]
    }
   ],
   "source": [
    "#determine some redundant columns \n",
    "print(df[(df.booking_appointment_link.isnull() == True) & ((df.order_links.isnull() == False) | (df.reservation_links.isnull() == False))].shape)\n",
    "print(df[(df.verified.isnull() == True) & ((df.owner_link.isnull() == False) | (df.owner_id.isnull() == False))].shape)\n",
    "\n",
    "#consolidate and delete unnecessary info\n",
    "del  df['logo'], df['owner_title'], df['owner_id'], df['owner_link'], df['street_view'], df['working_hours'], df['verified'], df['name_for_emails'], df['area_service'], df['reservation_links'], df['order_links']"
   ]
  },
  {
   "cell_type": "code",
   "execution_count": 256,
   "metadata": {},
   "outputs": [
    {
     "name": "stdout",
     "output_type": "stream",
     "text": [
      "name                           0\n",
      "site                        1122\n",
      "subtypes                       1\n",
      "category                       2\n",
      "type                           1\n",
      "phone                        228\n",
      "full_address                   0\n",
      "borough                       59\n",
      "street                        12\n",
      "postal_code                    0\n",
      "latitude                       0\n",
      "longitude                      0\n",
      "h3                             0\n",
      "rating                         0\n",
      "reviews                        0\n",
      "reviews_link                   1\n",
      "reviews_per_score_1            0\n",
      "reviews_per_score_2            0\n",
      "reviews_per_score_3            0\n",
      "reviews_per_score_4            0\n",
      "reviews_per_score_5            0\n",
      "photos_count                   3\n",
      "photo                          3\n",
      "working_hours_old_format     279\n",
      "other_hours                 2791\n",
      "business_status                0\n",
      "about                          0\n",
      "range                        779\n",
      "description                 2180\n",
      "booking_appointment_link    1203\n",
      "location_link                  0\n",
      "location_reviews_link          0\n",
      "place_id                       0\n",
      "google_id                      0\n",
      "cid                            0\n",
      "kgmid                          0\n",
      "reviews_id                     0\n",
      "dtype: int64\n"
     ]
    }
   ],
   "source": [
    "#convert some columns to Boolean data\n",
    "missing_values = df.isnull().sum()\n",
    "print(missing_values)\n",
    "rd = df.copy()\n",
    "rd['site'] = (df.site.isnull() == False)\n",
    "rd['phone'] = (df.phone.isnull() == False)\n",
    "rd['booking_appointment_link'] = (df.booking_appointment_link.isnull() == False)\n",
    "\n",
    "#convert missing values in 'range' and 'borough'\n",
    "rd.range = rd.range.fillna(0)\n",
    "rd.borough = rd.borough.fillna('Unlabeled')\n",
    "#ensure that there is sufficient customer feedback\n",
    "rd = rd[rd.reviews > 29]"
   ]
  },
  {
   "cell_type": "code",
   "execution_count": 259,
   "metadata": {},
   "outputs": [],
   "source": [
    "#primary features for customer targets\n",
    "features = ['type', 'category', 'site','phone', 'booking_appointment_link', 'range', 'latitude','longitude', 'postal_code', 'borough', 'working_hours_old_format', 'other_hours', 'range', 'photos_count', 'reviews_per_score_1', 'reviews_per_score_2']"
   ]
  },
  {
   "cell_type": "markdown",
   "metadata": {},
   "source": [
    "## Train/Test Split of Restaurant Data"
   ]
  },
  {
   "cell_type": "markdown",
   "metadata": {},
   "source": [
    "Taken collectively, Philly has a lot of neighborhood diversity, so it seems naive to apply a uniform perspective to the data. Therefore, our approach will be founded on categorization by boroughs.\n",
    "\n",
    "We first need to exclude the boroughs with only marginal representation."
   ]
  },
  {
   "cell_type": "code",
   "execution_count": null,
   "metadata": {},
   "outputs": [
    {
     "data": {
      "text/plain": [
       "['Cecil B. Moore', 'Roxborough', 'Mayfair', 'Holmes']"
      ]
     },
     "execution_count": 405,
     "metadata": {},
     "output_type": "execute_result"
    }
   ],
   "source": [
    "\n",
    "marginal_boroughs = [bor for bor in rd.borough.value_counts().index if rd.borough.value_counts()[bor] == 1]\n",
    "marginal_boroughs"
   ]
  },
  {
   "cell_type": "markdown",
   "metadata": {},
   "source": [
    "We split the data into training and test sets, preserving the proportions of restaurants in each borough."
   ]
  },
  {
   "cell_type": "code",
   "execution_count": 261,
   "metadata": {},
   "outputs": [],
   "source": [
    "from sklearn.model_selection import train_test_split\n",
    "rd_bor = rd[~rd.borough.isin(marginal_boroughs)]\n",
    "rd_train, rd_test = train_test_split(rd_bor,\n",
    "                                        test_size=0.2,\n",
    "                                        random_state=50201,\n",
    "                                        stratify = rd_bor['borough'],\n",
    "                                        shuffle=True)\n",
    "\n"
   ]
  },
  {
   "cell_type": "code",
   "execution_count": 401,
   "metadata": {},
   "outputs": [],
   "source": [
    "#write test set immediately to file\n",
    "rd_test.to_csv(\"../'Will It Restaurant?'/test_data.csv\", index = False)"
   ]
  },
  {
   "cell_type": "code",
   "execution_count": 399,
   "metadata": {},
   "outputs": [],
   "source": [
    "rd_train.to_csv(\"../'Will It Restaurant?'/train_data.csv\", index = False)"
   ]
  }
 ],
 "metadata": {
  "kernelspec": {
   "display_name": "erdos_spring_2025",
   "language": "python",
   "name": "python3"
  },
  "language_info": {
   "codemirror_mode": {
    "name": "ipython",
    "version": 3
   },
   "file_extension": ".py",
   "mimetype": "text/x-python",
   "name": "python",
   "nbconvert_exporter": "python",
   "pygments_lexer": "ipython3",
   "version": "3.12.8"
  }
 },
 "nbformat": 4,
 "nbformat_minor": 2
}
